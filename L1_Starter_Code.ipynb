{
 "cells": [
  {
   "cell_type": "markdown",
   "metadata": {},
   "source": [
    "Before we get started, a couple of reminders to keep in mind when using iPython notebooks:\n",
    "\n",
    "- Remember that you can see from the left side of a code cell when it was last run if there is a number within the brackets.\n",
    "- When you start a new notebook session, make sure you run all of the cells up to the point where you last left off. Even if the output is still visible from when you ran the cells in your previous session, the kernel starts in a fresh state so you'll need to reload the data, etc. on a new session.\n",
    "- The previous point is useful to keep in mind if your answers do not match what is expected in the lesson's quizzes. Try reloading the data and run all of the processing steps one by one in order to make sure that you are working with the same variables and data that are at each quiz stage.\n",
    "\n",
    "\n",
    "## Load Data from CSVs"
   ]
  },
  {
   "cell_type": "code",
   "execution_count": 2,
   "metadata": {
    "collapsed": true
   },
   "outputs": [],
   "source": [
    "import unicodecsv\n",
    "\n",
    "## Longer version of code (replaced with shorter, equivalent version below)\n",
    "\n",
    "# enrollments = []\n",
    "# f = open('enrollments.csv', 'rb')\n",
    "# reader = unicodecsv.DictReader(f)\n",
    "# for row in reader:\n",
    "#     enrollments.append(row)\n",
    "# f.close()\n",
    "\n",
    "with open('enrollments.csv', 'rb') as f:\n",
    "    reader = unicodecsv.DictReader(f)\n",
    "    enrollments = list(reader)"
   ]
  },
  {
   "cell_type": "code",
   "execution_count": 3,
   "metadata": {
    "collapsed": false
   },
   "outputs": [],
   "source": [
    "#####################################\n",
    "#                 1                 #\n",
    "#####################################\n",
    "\n",
    "## Read in the data from daily_engagement.csv and project_submissions.csv \n",
    "## and store the results in the below variables.\n",
    "## Then look at the first row of each table.\n",
    "with open('daily_engagement.csv','rb') as f:\n",
    "    reader = unicodecsv.DictReader(f)\n",
    "    daily_engagement = list(reader)\n",
    "\n",
    "with open('project_submissions.csv','rb') as f:\n",
    "    reader = unicodecsv.DictReader(f)\n",
    "    project_submissions = list(reader)\n",
    "\n",
    "\n"
   ]
  },
  {
   "cell_type": "code",
   "execution_count": 4,
   "metadata": {
    "collapsed": false
   },
   "outputs": [
    {
     "data": {
      "text/plain": [
       "{u'account_key': u'448',\n",
       " u'cancel_date': u'2015-01-14',\n",
       " u'days_to_cancel': u'65',\n",
       " u'is_canceled': u'True',\n",
       " u'is_udacity': u'True',\n",
       " u'join_date': u'2014-11-10',\n",
       " u'status': u'canceled'}"
      ]
     },
     "execution_count": 4,
     "metadata": {},
     "output_type": "execute_result"
    }
   ],
   "source": [
    "enrollments[0]"
   ]
  },
  {
   "cell_type": "code",
   "execution_count": 5,
   "metadata": {
    "collapsed": false,
    "scrolled": true
   },
   "outputs": [
    {
     "data": {
      "text/plain": [
       "{u'acct': u'0',\n",
       " u'lessons_completed': u'0.0',\n",
       " u'num_courses_visited': u'1.0',\n",
       " u'projects_completed': u'0.0',\n",
       " u'total_minutes_visited': u'11.6793745',\n",
       " u'utc_date': u'2015-01-09'}"
      ]
     },
     "execution_count": 5,
     "metadata": {},
     "output_type": "execute_result"
    }
   ],
   "source": [
    "daily_engagement[0]"
   ]
  },
  {
   "cell_type": "markdown",
   "metadata": {},
   "source": [
    "## Fixing Data Types"
   ]
  },
  {
   "cell_type": "code",
   "execution_count": 6,
   "metadata": {
    "collapsed": false,
    "scrolled": false
   },
   "outputs": [
    {
     "data": {
      "text/plain": [
       "{u'account_key': u'256',\n",
       " u'assigned_rating': u'UNGRADED',\n",
       " u'completion_date': u'2015-01-16',\n",
       " u'creation_date': u'2015-01-14',\n",
       " u'lesson_key': u'3176718735',\n",
       " u'processing_state': u'EVALUATED'}"
      ]
     },
     "execution_count": 6,
     "metadata": {},
     "output_type": "execute_result"
    }
   ],
   "source": [
    "project_submissions[0]"
   ]
  },
  {
   "cell_type": "code",
   "execution_count": 7,
   "metadata": {
    "collapsed": false,
    "scrolled": true
   },
   "outputs": [
    {
     "data": {
      "text/plain": [
       "{u'account_key': u'448',\n",
       " u'cancel_date': datetime.datetime(2015, 1, 14, 0, 0),\n",
       " u'days_to_cancel': 65,\n",
       " u'is_canceled': True,\n",
       " u'is_udacity': True,\n",
       " u'join_date': datetime.datetime(2014, 11, 10, 0, 0),\n",
       " u'status': u'canceled'}"
      ]
     },
     "execution_count": 7,
     "metadata": {},
     "output_type": "execute_result"
    }
   ],
   "source": [
    "from datetime import datetime as dt\n",
    "\n",
    "# Takes a date as a string, and returns a Python datetime object. \n",
    "# If there is no date given, returns None\n",
    "def parse_date(date):\n",
    "    if date == '':\n",
    "        return None\n",
    "    else:\n",
    "        return dt.strptime(date, '%Y-%m-%d')\n",
    "    \n",
    "# Takes a string which is either an empty string or represents an integer,\n",
    "# and returns an int or None.\n",
    "def parse_maybe_int(i):\n",
    "    if i == '':\n",
    "        return None\n",
    "    else:\n",
    "        return int(i)\n",
    "\n",
    "# Clean up the data types in the enrollments table\n",
    "for enrollment in enrollments:\n",
    "    enrollment['cancel_date'] = parse_date(enrollment['cancel_date'])\n",
    "    enrollment['days_to_cancel'] = parse_maybe_int(enrollment['days_to_cancel'])\n",
    "    enrollment['is_canceled'] = enrollment['is_canceled'] == 'True'\n",
    "    enrollment['is_udacity'] = enrollment['is_udacity'] == 'True'\n",
    "    enrollment['join_date'] = parse_date(enrollment['join_date'])\n",
    "    \n",
    "enrollments[0]"
   ]
  },
  {
   "cell_type": "code",
   "execution_count": 8,
   "metadata": {
    "collapsed": false
   },
   "outputs": [
    {
     "data": {
      "text/plain": [
       "{u'acct': u'0',\n",
       " u'lessons_completed': 0,\n",
       " u'num_courses_visited': 1,\n",
       " u'projects_completed': 0,\n",
       " u'total_minutes_visited': 11.6793745,\n",
       " u'utc_date': datetime.datetime(2015, 1, 9, 0, 0)}"
      ]
     },
     "execution_count": 8,
     "metadata": {},
     "output_type": "execute_result"
    }
   ],
   "source": [
    "# Clean up the data types in the engagement table\n",
    "for engagement_record in daily_engagement:\n",
    "    engagement_record['lessons_completed'] = int(float(engagement_record['lessons_completed']))\n",
    "    engagement_record['num_courses_visited'] = int(float(engagement_record['num_courses_visited']))\n",
    "    engagement_record['projects_completed'] = int(float(engagement_record['projects_completed']))\n",
    "    engagement_record['total_minutes_visited'] = float(engagement_record['total_minutes_visited'])\n",
    "    engagement_record['utc_date'] = parse_date(engagement_record['utc_date'])\n",
    "    \n",
    "daily_engagement[0]"
   ]
  },
  {
   "cell_type": "code",
   "execution_count": 9,
   "metadata": {
    "collapsed": false
   },
   "outputs": [
    {
     "data": {
      "text/plain": [
       "{u'account_key': u'256',\n",
       " u'assigned_rating': u'UNGRADED',\n",
       " u'completion_date': datetime.datetime(2015, 1, 16, 0, 0),\n",
       " u'creation_date': datetime.datetime(2015, 1, 14, 0, 0),\n",
       " u'lesson_key': u'3176718735',\n",
       " u'processing_state': u'EVALUATED'}"
      ]
     },
     "execution_count": 9,
     "metadata": {},
     "output_type": "execute_result"
    }
   ],
   "source": [
    "# Clean up the data types in the submissions table\n",
    "for submission in project_submissions:\n",
    "    submission['completion_date'] = parse_date(submission['completion_date'])\n",
    "    submission['creation_date'] = parse_date(submission['creation_date'])\n",
    "\n",
    "project_submissions[0]\n"
   ]
  },
  {
   "cell_type": "markdown",
   "metadata": {},
   "source": [
    "Note when running the above cells that we are actively changing the contents of our data variables. If you try to run these cells multiple times in the same session, an error will occur.\n",
    "\n",
    "## Investigating the Data"
   ]
  },
  {
   "cell_type": "code",
   "execution_count": 10,
   "metadata": {
    "collapsed": false
   },
   "outputs": [
    {
     "name": "stdout",
     "output_type": "stream",
     "text": [
      "1640\n",
      "1302\n",
      "136240\n",
      "1237\n"
     ]
    }
   ],
   "source": [
    "#####################################\n",
    "#                 2                 #\n",
    "#####################################\n",
    "\n",
    "## Find the total number of rows and the number of unique students (account keys)\n",
    "## in each table.\n",
    "\n",
    "num_rows_in_enrollments = len(enrollments)\n",
    "students_in_enrollments = set()\n",
    "for i in enrollments:\n",
    "        students_in_enrollments.add(i['account_key'])\n",
    "num_of_students_in_enrollments = len(students_in_enrollments)\n",
    "\n",
    "print num_rows_in_enrollments\n",
    "print num_of_students_in_enrollments\n",
    "\n",
    "num_rows_in_daily_engagement = len(daily_engagement)\n",
    "students_in_daily_engagement = set()\n",
    "for i in daily_engagement:\n",
    "        students_in_daily_engagement.add(i['acct'])\n",
    "num_of_students_in_daily_engagement = len(students_in_daily_engagement)\n",
    "\n",
    "print num_rows_in_daily_engagement\n",
    "print num_of_students_in_daily_engagement\n",
    "\n"
   ]
  },
  {
   "cell_type": "code",
   "execution_count": 11,
   "metadata": {
    "collapsed": false
   },
   "outputs": [
    {
     "name": "stdout",
     "output_type": "stream",
     "text": [
      "3642\n",
      "743\n"
     ]
    }
   ],
   "source": [
    "num_rows_project_submission = len(project_submissions)\n",
    "students_in_project_submissions = set()\n",
    "for i in project_submissions:\n",
    "        students_in_project_submissions.add(i['account_key'])\n",
    "num_of_students_in_project_submissions = len(students_in_project_submissions)\n",
    "\n",
    "print num_rows_project_submission\n",
    "print num_of_students_in_project_submissions"
   ]
  },
  {
   "cell_type": "markdown",
   "metadata": {},
   "source": [
    "## Problems in the Data"
   ]
  },
  {
   "cell_type": "code",
   "execution_count": 12,
   "metadata": {
    "collapsed": false,
    "scrolled": true
   },
   "outputs": [
    {
     "data": {
      "text/plain": [
       "{'account_key': u'0',\n",
       " u'lessons_completed': 0,\n",
       " u'num_courses_visited': 1,\n",
       " u'projects_completed': 0,\n",
       " u'total_minutes_visited': 11.6793745,\n",
       " u'utc_date': datetime.datetime(2015, 1, 9, 0, 0)}"
      ]
     },
     "execution_count": 12,
     "metadata": {},
     "output_type": "execute_result"
    }
   ],
   "source": [
    "#####################################\n",
    "#                 3                 #\n",
    "#####################################\n",
    "\n",
    "## Rename the \"acct\" column in the daily_engagement table to \"account_key\".\n",
    "\n",
    "for i in daily_engagement:\n",
    "    i['account_key'] = i['acct']\n",
    "    del i['acct']\n",
    "\n",
    "daily_engagement[0]\n"
   ]
  },
  {
   "cell_type": "markdown",
   "metadata": {},
   "source": [
    "## Missing Engagement Records"
   ]
  },
  {
   "cell_type": "code",
   "execution_count": 13,
   "metadata": {
    "collapsed": false,
    "scrolled": false
   },
   "outputs": [
    {
     "name": "stdout",
     "output_type": "stream",
     "text": [
      "{u'status': u'canceled', u'is_udacity': False, u'is_canceled': True, u'join_date': datetime.datetime(2014, 11, 12, 0, 0), u'account_key': u'1219', u'cancel_date': datetime.datetime(2014, 11, 12, 0, 0), u'days_to_cancel': 0}\n"
     ]
    }
   ],
   "source": [
    "#####################################\n",
    "#                 4                 #\n",
    "#####################################\n",
    "\n",
    "## Find any one student enrollments where the student is missing from the daily engagement table.\n",
    "## Output that enrollment.\n",
    "\n",
    "num = 0\n",
    "for i in enrollments:    \n",
    "    if i['account_key'] not in  students_in_daily_engagement:\n",
    "        num += 1\n",
    "        print i\n",
    "        break\n",
    "        \n",
    "        \n"
   ]
  },
  {
   "cell_type": "markdown",
   "metadata": {},
   "source": [
    "## Checking for More Problem Records"
   ]
  },
  {
   "cell_type": "code",
   "execution_count": 14,
   "metadata": {
    "collapsed": false
   },
   "outputs": [
    {
     "name": "stdout",
     "output_type": "stream",
     "text": [
      "{u'status': u'canceled', u'is_udacity': True, u'is_canceled': True, u'join_date': datetime.datetime(2015, 1, 10, 0, 0), u'account_key': u'1304', u'cancel_date': datetime.datetime(2015, 3, 10, 0, 0), u'days_to_cancel': 59}\n",
      "{u'status': u'canceled', u'is_udacity': True, u'is_canceled': True, u'join_date': datetime.datetime(2015, 3, 10, 0, 0), u'account_key': u'1304', u'cancel_date': datetime.datetime(2015, 6, 17, 0, 0), u'days_to_cancel': 99}\n",
      "{u'status': u'current', u'is_udacity': True, u'is_canceled': False, u'join_date': datetime.datetime(2015, 2, 25, 0, 0), u'account_key': u'1101', u'cancel_date': None, u'days_to_cancel': None}\n",
      "3\n"
     ]
    }
   ],
   "source": [
    "#####################################\n",
    "#                 5                 #\n",
    "#####################################\n",
    "\n",
    "## Find the number of surprising data points (enrollments missing from\n",
    "## the engagement table) that remain, if any.\n",
    "num = 0\n",
    "for i in enrollments:    \n",
    "    if i['join_date'] != i['cancel_date'] and i['account_key'] not in  students_in_daily_engagement:\n",
    "        num += 1\n",
    "        print i\n",
    "print num"
   ]
  },
  {
   "cell_type": "markdown",
   "metadata": {},
   "source": [
    "## Tracking Down the Remaining Problems"
   ]
  },
  {
   "cell_type": "code",
   "execution_count": 15,
   "metadata": {
    "collapsed": false
   },
   "outputs": [
    {
     "data": {
      "text/plain": [
       "6"
      ]
     },
     "execution_count": 15,
     "metadata": {},
     "output_type": "execute_result"
    }
   ],
   "source": [
    "# Create a set of the account keys for all Udacity test accounts\n",
    "udacity_test_accounts = set()\n",
    "for enrollment in enrollments:\n",
    "    if enrollment['is_udacity']:\n",
    "        udacity_test_accounts.add(enrollment['account_key'])\n",
    "len(udacity_test_accounts)"
   ]
  },
  {
   "cell_type": "code",
   "execution_count": 16,
   "metadata": {
    "collapsed": true
   },
   "outputs": [],
   "source": [
    "# Given some data with an account_key field, removes any records corresponding to Udacity test accounts\n",
    "def remove_udacity_accounts(data):\n",
    "    non_udacity_data = []\n",
    "    for data_point in data:\n",
    "        if data_point['account_key'] not in udacity_test_accounts:\n",
    "            non_udacity_data.append(data_point)\n",
    "    return non_udacity_data"
   ]
  },
  {
   "cell_type": "code",
   "execution_count": 17,
   "metadata": {
    "collapsed": false
   },
   "outputs": [
    {
     "name": "stdout",
     "output_type": "stream",
     "text": [
      "1622\n",
      "135656\n",
      "3634\n"
     ]
    }
   ],
   "source": [
    "# Remove Udacity test accounts from all three tables\n",
    "non_udacity_enrollments = remove_udacity_accounts(enrollments)\n",
    "non_udacity_engagement = remove_udacity_accounts(daily_engagement)\n",
    "non_udacity_submissions = remove_udacity_accounts(project_submissions)\n",
    "\n",
    "print len(non_udacity_enrollments)\n",
    "print len(non_udacity_engagement)\n",
    "print len(non_udacity_submissions)"
   ]
  },
  {
   "cell_type": "markdown",
   "metadata": {},
   "source": [
    "## Refining the Question"
   ]
  },
  {
   "cell_type": "code",
   "execution_count": 19,
   "metadata": {
    "collapsed": false
   },
   "outputs": [
    {
     "data": {
      "text/plain": [
       "995"
      ]
     },
     "execution_count": 19,
     "metadata": {},
     "output_type": "execute_result"
    }
   ],
   "source": [
    "#####################################\n",
    "#                 6                 #\n",
    "#####################################\n",
    "\n",
    "## Create a dictionary named paid_students containing all students who either\n",
    "## haven't canceled yet or who remained enrolled for more than 7 days. The keys\n",
    "## should be account keys, and the values should be the date the student enrolled.\n",
    "paid_students = {}\n",
    "for i in non_udacity_enrollments:\n",
    "    if i['days_to_cancel'] == None or i['days_to_cancel']>7: \n",
    "        account_key = i['account_key']\n",
    "        enrollment_day = i['join_date']\n",
    "        \n",
    "        if account_key not in paid_students or \\\n",
    "             enrollment_day > paid_students[account_key]:                \n",
    "                 paid_students[account_key] = enrollment_day\n",
    "\n",
    "len(paid_students)\n",
    "    "
   ]
  },
  {
   "cell_type": "markdown",
   "metadata": {},
   "source": [
    "## Getting Data from First Week"
   ]
  },
  {
   "cell_type": "code",
   "execution_count": 20,
   "metadata": {
    "collapsed": true
   },
   "outputs": [],
   "source": [
    "# Takes a student's join date and the date of a specific engagement record,\n",
    "# and returns True if that engagement record happened within one week\n",
    "# of the student joining.\n",
    "def within_one_week(join_date, engagement_date):\n",
    "    time_delta = engagement_date - join_date\n",
    "    return time_delta.days < 7 and time_delta.days >= 0"
   ]
  },
  {
   "cell_type": "code",
   "execution_count": 21,
   "metadata": {
    "collapsed": true
   },
   "outputs": [],
   "source": [
    "def remove_free_trial_cancels(data):\n",
    "    new_data = []\n",
    "    for i in data:\n",
    "        if i['account_key'] in paid_students:\n",
    "            new_data.append(i)\n",
    "    return new_data"
   ]
  },
  {
   "cell_type": "code",
   "execution_count": 22,
   "metadata": {
    "collapsed": false,
    "scrolled": true
   },
   "outputs": [
    {
     "name": "stdout",
     "output_type": "stream",
     "text": [
      "1293\n",
      "134549\n",
      "3618\n"
     ]
    }
   ],
   "source": [
    "paid_enrollments = remove_free_trial_cancels(non_udacity_enrollments)\n",
    "paid_engagement = remove_free_trial_cancels(non_udacity_engagement)\n",
    "paid_submissions = remove_free_trial_cancels(non_udacity_submissions)\n",
    "\n",
    "print len(paid_enrollments)\n",
    "print len(paid_engagement)\n",
    "print len(paid_submissions)\n",
    "\n",
    "\n"
   ]
  },
  {
   "cell_type": "markdown",
   "metadata": {},
   "source": [
    "### 995 paid student had 1293 enrollment record"
   ]
  },
  {
   "cell_type": "code",
   "execution_count": 23,
   "metadata": {
    "collapsed": false,
    "scrolled": true
   },
   "outputs": [
    {
     "data": {
      "text/plain": [
       "6919"
      ]
     },
     "execution_count": 23,
     "metadata": {},
     "output_type": "execute_result"
    }
   ],
   "source": [
    "#####################################\n",
    "#                 7                 #\n",
    "#####################################\n",
    "\n",
    "## Create a list of rows from the engagement table including only rows where\n",
    "## the student is one of the paid students you just found, and the date is within\n",
    "## one week of the student's join date.\n",
    "\n",
    "paid_engagement_in_first_week = []\n",
    "for i in paid_engagement:\n",
    "    if i['account_key'] in paid_students:\n",
    "        if within_one_week(paid_students[i['account_key']], i['utc_date']):\n",
    "            paid_engagement_in_first_week.append(i)\n",
    "\n",
    "len(paid_engagement_in_first_week)"
   ]
  },
  {
   "cell_type": "markdown",
   "metadata": {},
   "source": [
    "## Exploring Student Engagement"
   ]
  },
  {
   "cell_type": "code",
   "execution_count": 26,
   "metadata": {
    "collapsed": false,
    "scrolled": true
   },
   "outputs": [
    {
     "data": {
      "text/plain": [
       "995"
      ]
     },
     "execution_count": 26,
     "metadata": {},
     "output_type": "execute_result"
    }
   ],
   "source": [
    "from collections import defaultdict\n",
    "\n",
    "# Create a dictionary of engagement grouped by student.\n",
    "# The keys are account keys, and the values are lists of engagement records.\n",
    "engagement_by_account = defaultdict(list)\n",
    "for engagement_record in paid_engagement_in_first_week:\n",
    "    account_key = engagement_record['account_key']\n",
    "    engagement_by_account[account_key].append(engagement_record)\n",
    "\n",
    "len(engagement_by_account)"
   ]
  },
  {
   "cell_type": "code",
   "execution_count": 29,
   "metadata": {
    "collapsed": false,
    "scrolled": true
   },
   "outputs": [
    {
     "data": {
      "text/plain": [
       "{u'0': 494.88049616599994,\n",
       " u'1': 18.576384666670002,\n",
       " u'10': 130.12347833367,\n",
       " u'100': 145.70615016660003,\n",
       " u'1000': 180.025886167,\n",
       " u'1001': 16.2005246667,\n",
       " u'1002': 8.1809285,\n",
       " u'1007': 0.0,\n",
       " u'1009': 0.0,\n",
       " u'101': 148.7306783333,\n",
       " u'1011': 118.71332966671,\n",
       " u'1013': 4.3800225,\n",
       " u'1014': 619.9953998326,\n",
       " u'1015': 38.87817050003,\n",
       " u'1019': 75.87298200000001,\n",
       " u'102': 277.0299235,\n",
       " u'1022': 0.0,\n",
       " u'1028': 18.8601366667,\n",
       " u'1029': 3.50885666667,\n",
       " u'103': 1075.0625133337,\n",
       " u'1030': 218.55650866673005,\n",
       " u'1031': 11.741084,\n",
       " u'1032': 13.899305166700001,\n",
       " u'1033': 959.9534376661,\n",
       " u'1036': 0.0,\n",
       " u'1038': 0.0,\n",
       " u'104': 839.123771167,\n",
       " u'1040': 12.9824898333,\n",
       " u'1042': 45.5670335,\n",
       " u'1048': 0.0,\n",
       " u'1049': 37.853095,\n",
       " u'105': 312.1800340007,\n",
       " u'1050': 84.5200338333,\n",
       " u'1052': 117.195806333,\n",
       " u'1053': 81.4415533333,\n",
       " u'1054': 0.0,\n",
       " u'1055': 71.5736406667,\n",
       " u'1056': 366.5285674997,\n",
       " u'1058': 0.0,\n",
       " u'106': 29.0687406666,\n",
       " u'1060': 1768.5227493319999,\n",
       " u'1062': 366.3194163334,\n",
       " u'1066': 0.0,\n",
       " u'1067': 29.7377383333,\n",
       " u'107': 171.2928940001,\n",
       " u'1070': 1309.1846301673,\n",
       " u'1071': 0.0,\n",
       " u'1072': 0.0,\n",
       " u'1073': 35.81870033337,\n",
       " u'1074': 0.0,\n",
       " u'1075': 90.6038805,\n",
       " u'1077': 152.213267167,\n",
       " u'108': 164.27089083347,\n",
       " u'1080': 5.51051366667,\n",
       " u'1081': 0.0,\n",
       " u'1082': 51.1061375,\n",
       " u'1087': 179.4080511666,\n",
       " u'1088': 0.0,\n",
       " u'1089': 53.190095,\n",
       " u'109': 1167.52455983297,\n",
       " u'1090': 0.0,\n",
       " u'1094': 464.4721495011001,\n",
       " u'1095': 30.0975526667,\n",
       " u'1096': 269.29544283309997,\n",
       " u'1098': 739.8981633335999,\n",
       " u'1099': 108.8893720001,\n",
       " u'11': 0.0,\n",
       " u'110': 1214.55291799937,\n",
       " u'1102': 0.0,\n",
       " u'1103': 0.0,\n",
       " u'1107': 73.6289658334,\n",
       " u'111': 169.159592167,\n",
       " u'1110': 52.90383883333,\n",
       " u'1111': 0.0,\n",
       " u'1113': 37.2096841667,\n",
       " u'1115': 0.0,\n",
       " u'1117': 0.0,\n",
       " u'1118': 89.38367816659999,\n",
       " u'112': 388.23059683327006,\n",
       " u'1121': 20.21580533333,\n",
       " u'1123': 12.6563396667,\n",
       " u'1124': 0.0,\n",
       " u'1128': 53.4711175,\n",
       " u'113': 83.7769855,\n",
       " u'1130': 137.6759001667,\n",
       " u'1131': 693.148515833,\n",
       " u'1136': 0.0,\n",
       " u'1139': 321.75119083367,\n",
       " u'114': 186.94018933324,\n",
       " u'1140': 129.85920366667,\n",
       " u'1142': 0.0,\n",
       " u'1143': 299.9208106657,\n",
       " u'1144': 0.0,\n",
       " u'1146': 105.57724800007,\n",
       " u'1147': 28.805244,\n",
       " u'1149': 876.6454899994,\n",
       " u'115': 167.606683,\n",
       " u'1150': 150.810125167,\n",
       " u'1151': 113.43918199967,\n",
       " u'1153': 565.6616593333,\n",
       " u'1154': 0.0,\n",
       " u'1157': 0.0,\n",
       " u'116': 886.0703749999001,\n",
       " u'1160': 2.70408483333,\n",
       " u'1161': 87.8123571667,\n",
       " u'1163': 56.4237046666,\n",
       " u'1167': 870.43417899963,\n",
       " u'117': 129.2449371666,\n",
       " u'1170': 0.0,\n",
       " u'1173': 55.7923973333,\n",
       " u'1174': 76.1418825,\n",
       " u'1175': 2.7094835,\n",
       " u'1176': 754.5790381659999,\n",
       " u'1177': 43.0449731666,\n",
       " u'1178': 0.0,\n",
       " u'118': 891.8733579995999,\n",
       " u'1181': 42.3039228333,\n",
       " u'1182': 63.1747861666,\n",
       " u'1183': 258.849289167,\n",
       " u'1185': 51.7192425,\n",
       " u'1188': 200.75333083330003,\n",
       " u'1189': 292.8858635,\n",
       " u'119': 672.9427816664,\n",
       " u'1194': 168.1376205,\n",
       " u'1198': 6.5907805,\n",
       " u'1199': 4.71476416667,\n",
       " u'12': 179.4719088333,\n",
       " u'120': 266.1378745,\n",
       " u'1200': 696.57720983267,\n",
       " u'1201': 395.022838667,\n",
       " u'1202': 48.67926333336,\n",
       " u'1204': 291.7782771666,\n",
       " u'1205': 0.0,\n",
       " u'1206': 76.7225691667,\n",
       " u'1207': 26.4703245,\n",
       " u'1208': 114.066953,\n",
       " u'1209': 247.9447956666,\n",
       " u'121': 285.36239183329997,\n",
       " u'1210': 430.7856678337,\n",
       " u'1211': 0.0,\n",
       " u'1212': 0.0,\n",
       " u'1214': 12.822523,\n",
       " u'1215': 1360.7287001670002,\n",
       " u'1216': 266.32487266671006,\n",
       " u'1217': 100.837620167,\n",
       " u'122': 530.1415103337,\n",
       " u'1220': 118.30495933329999,\n",
       " u'1224': 61.0835323333,\n",
       " u'1226': 0.0,\n",
       " u'1227': 0.0,\n",
       " u'1228': 0.0,\n",
       " u'123': 0.0,\n",
       " u'1231': 621.5755701662999,\n",
       " u'1235': 172.77872349963,\n",
       " u'1236': 0.0,\n",
       " u'124': 51.0695815,\n",
       " u'1242': 0.0,\n",
       " u'1243': 62.9114363333,\n",
       " u'1244': 53.5962256666,\n",
       " u'1247': 79.19556549999999,\n",
       " u'1248': 3.50918183333,\n",
       " u'1249': 9.62371516667,\n",
       " u'125': 1410.5316330013002,\n",
       " u'1250': 10.0058803333,\n",
       " u'1251': 11.2880193333,\n",
       " u'1253': 0.0,\n",
       " u'1254': 187.32349033330001,\n",
       " u'1257': 30.8061303333,\n",
       " u'1259': 0.0,\n",
       " u'126': 33.4956098333,\n",
       " u'1260': 0.0,\n",
       " u'1262': 0.0,\n",
       " u'1263': 383.99752900006996,\n",
       " u'1264': 2.01734133333,\n",
       " u'1265': 0.0,\n",
       " u'1266': 0.0,\n",
       " u'1267': 0.0,\n",
       " u'1268': 11.3308886667,\n",
       " u'1269': 4.79064933333,\n",
       " u'127': 334.5606256663,\n",
       " u'1274': 438.5049581666,\n",
       " u'1276': 62.8929255,\n",
       " u'1277': 0.0,\n",
       " u'1278': 0.0,\n",
       " u'128': 743.1407118340001,\n",
       " u'1282': 134.5242838333,\n",
       " u'1285': 32.4256981667,\n",
       " u'1287': 0.0,\n",
       " u'1289': 5.45628333333,\n",
       " u'129': 101.387314333,\n",
       " u'1290': 78.787234,\n",
       " u'1292': 233.20550333356,\n",
       " u'1298': 143.91027249997,\n",
       " u'1299': 0.0,\n",
       " u'13': 1013.3833969996999,\n",
       " u'130': 0.0,\n",
       " u'1302': 0.0,\n",
       " u'1303': 0.0,\n",
       " u'1305': 9.771473833329999,\n",
       " u'131': 0.0,\n",
       " u'132': 1196.803629999,\n",
       " u'133': 80.2133103333,\n",
       " u'134': 1017.1034851664001,\n",
       " u'135': 613.2567715002999,\n",
       " u'136': 34.1685658333,\n",
       " u'137': 696.2475044997,\n",
       " u'138': 90.3995656667,\n",
       " u'139': 86.4587005,\n",
       " u'14': 65.6221875,\n",
       " u'140': 2050.1156751667004,\n",
       " u'141': 544.992658666,\n",
       " u'142': 201.21822283370003,\n",
       " u'143': 405.0228675003,\n",
       " u'144': 384.69492683359994,\n",
       " u'145': 893.4411686660001,\n",
       " u'146': 11.554518,\n",
       " u'147': 0.0,\n",
       " u'148': 0.0,\n",
       " u'149': 56.835209,\n",
       " u'15': 983.375040335,\n",
       " u'150': 414.14088366667,\n",
       " u'151': 908.4660900005999,\n",
       " u'152': 745.1146233329999,\n",
       " u'153': 116.8988095,\n",
       " u'154': 736.9791355,\n",
       " u'155': 0.0,\n",
       " u'156': 635.5124964993,\n",
       " u'157': 8.3032715,\n",
       " u'158': 0.0,\n",
       " u'159': 0.0,\n",
       " u'16': 119.12030049999998,\n",
       " u'160': 630.1675615003,\n",
       " u'161': 531.8882431671,\n",
       " u'162': 532.6464248333,\n",
       " u'163': 3564.7332644989997,\n",
       " u'164': 765.55279683203,\n",
       " u'165': 962.5736773336,\n",
       " u'166': 0.0,\n",
       " u'167': 0.0,\n",
       " u'168': 120.87673000033001,\n",
       " u'169': 92.5594045,\n",
       " u'17': 235.49969150033,\n",
       " u'170': 586.7042849994001,\n",
       " u'171': 1887.391213833,\n",
       " u'172': 589.8798286670001,\n",
       " u'173': 12.9807116667,\n",
       " u'174': 414.12743866659997,\n",
       " u'175': 2375.7954986677,\n",
       " u'176': 1051.5771371676,\n",
       " u'177': 570.776941833,\n",
       " u'178': 783.3383063341,\n",
       " u'179': 913.6758890002999,\n",
       " u'18': 155.1361575,\n",
       " u'180': 95.4642313333,\n",
       " u'181': 651.9806806667,\n",
       " u'182': 310.2486779997,\n",
       " u'183': 418.01940599970004,\n",
       " u'184': 247.9964674996,\n",
       " u'185': 0.0,\n",
       " u'186': 601.3632028330001,\n",
       " u'187': 629.3766914993301,\n",
       " u'188': 6.20617616667,\n",
       " u'189': 1251.6466043334,\n",
       " u'19': 0.0,\n",
       " u'190': 7.94751166667,\n",
       " u'191': 137.2655706667,\n",
       " u'192': 402.42499849989997,\n",
       " u'193': 121.07599299993,\n",
       " u'194': 315.44705699977,\n",
       " u'195': 1166.4244791677,\n",
       " u'196': 383.1542506668,\n",
       " u'197': 931.3076661670001,\n",
       " u'198': 809.546996001,\n",
       " u'199': 1452.709982333,\n",
       " u'2': 0.0,\n",
       " u'20': 447.93897783336996,\n",
       " u'200': 448.5325424996,\n",
       " u'201': 0.0,\n",
       " u'202': 219.2389440004,\n",
       " u'203': 605.7708455,\n",
       " u'204': 686.7681608344001,\n",
       " u'205': 315.34049566659996,\n",
       " u'206': 633.1473566663,\n",
       " u'207': 114.39214366666,\n",
       " u'208': 356.77551816640005,\n",
       " u'209': 4.55604183333,\n",
       " u'21': 931.1036911666699,\n",
       " u'210': 421.2835453327,\n",
       " u'211': 593.1472776666001,\n",
       " u'212': 168.3080953333,\n",
       " u'213': 836.3458141666999,\n",
       " u'214': 30.3670653333,\n",
       " u'215': 662.64059800003,\n",
       " u'216': 58.36346116669999,\n",
       " u'217': 0.0,\n",
       " u'218': 2393.5421573319004,\n",
       " u'219': 272.6840003337,\n",
       " u'22': 657.2052335000001,\n",
       " u'220': 467.6978279993,\n",
       " u'221': 178.70479883369998,\n",
       " u'222': 241.8322233337,\n",
       " u'223': 151.60938049966,\n",
       " u'224': 30.647238166630004,\n",
       " u'225': 247.9695998334,\n",
       " u'226': 439.05929566669994,\n",
       " u'227': 485.78090949999995,\n",
       " u'228': 360.4108591662,\n",
       " u'229': 131.7264965,\n",
       " u'23': 1591.3228143334,\n",
       " u'230': 197.41214399993,\n",
       " u'231': 9.75699783333,\n",
       " u'232': 1168.2526861667002,\n",
       " u'233': 197.0435864997,\n",
       " u'234': 931.3838908327,\n",
       " u'235': 0.0,\n",
       " u'236': 467.5716475007,\n",
       " u'237': 704.5008775003,\n",
       " u'238': 330.1826238337,\n",
       " u'239': 40.220247,\n",
       " u'24': 943.188117167,\n",
       " u'240': 0.0,\n",
       " u'241': 288.9210591667,\n",
       " u'242': 554.59261383367,\n",
       " u'243': 46.605140666699995,\n",
       " u'244': 123.5804105,\n",
       " u'245': 669.9961104997,\n",
       " u'246': 277.3369746671,\n",
       " u'248': 183.134135333,\n",
       " u'249': 877.8003651663,\n",
       " u'25': 0.0,\n",
       " u'250': 284.6907063333,\n",
       " u'251': 175.613687167,\n",
       " u'252': 343.35795733340007,\n",
       " u'253': 0.0,\n",
       " u'254': 600.5757328336,\n",
       " u'255': 221.72389316627002,\n",
       " u'256': 0.0,\n",
       " u'257': 39.485681500000005,\n",
       " u'258': 595.2719906673,\n",
       " u'259': 736.3565788330001,\n",
       " u'26': 430.801675833,\n",
       " u'260': 638.934161833,\n",
       " u'261': 0.0,\n",
       " u'262': 42.4569508333,\n",
       " u'263': 417.4064971669,\n",
       " u'264': 110.09569266679999,\n",
       " u'265': 371.26458716729996,\n",
       " u'266': 1420.1479191659998,\n",
       " u'267': 211.5840809997,\n",
       " u'268': 314.3331800003,\n",
       " u'269': 322.475557667,\n",
       " u'27': 1579.12122666663,\n",
       " u'270': 1020.3306876671,\n",
       " u'271': 830.83625116633,\n",
       " u'272': 1203.2224428333002,\n",
       " u'273': 70.48434450007001,\n",
       " u'274': 1435.0160603327001,\n",
       " u'275': 44.477798999970005,\n",
       " u'276': 429.03252133340004,\n",
       " u'277': 884.915487,\n",
       " u'278': 0.0,\n",
       " u'279': 143.048056833,\n",
       " u'28': 766.256315667,\n",
       " u'280': 255.53718516670003,\n",
       " u'281': 0.0,\n",
       " u'282': 570.5658495,\n",
       " u'283': 269.194508,\n",
       " u'284': 302.608719833,\n",
       " u'285': 109.141489,\n",
       " u'286': 195.9300631667,\n",
       " u'287': 283.36202233326,\n",
       " u'288': 4.58531166667,\n",
       " u'289': 955.78319766497,\n",
       " u'29': 556.1906033333,\n",
       " u'290': 442.37721166627,\n",
       " u'291': 0.0,\n",
       " u'292': 192.665344,\n",
       " u'293': 497.8218254996,\n",
       " u'294': 405.600248833,\n",
       " u'295': 421.6092228329,\n",
       " u'296': 199.06043566667,\n",
       " u'297': 338.67828999970004,\n",
       " u'298': 213.4699951663,\n",
       " u'299': 0.0,\n",
       " u'3': 0.0,\n",
       " u'30': 69.6578351667,\n",
       " u'300': 88.12990766662999,\n",
       " u'301': 669.9500983341,\n",
       " u'302': 165.37368716699999,\n",
       " u'303': 2700.4878774989998,\n",
       " u'304': 194.7560403337,\n",
       " u'305': 538.88974533303,\n",
       " u'306': 0.0,\n",
       " u'307': 4.19664316667,\n",
       " u'308': 554.8758693333999,\n",
       " u'309': 150.7999871667,\n",
       " u'31': 0.0,\n",
       " u'310': 843.170594833,\n",
       " u'311': 59.239222,\n",
       " u'313': 888.6124170002998,\n",
       " u'314': 1341.720517667,\n",
       " u'315': 657.0126268326,\n",
       " u'316': 1735.943607166,\n",
       " u'317': 2778.3161446706704,\n",
       " u'318': 196.3044158337,\n",
       " u'319': 343.6706583329,\n",
       " u'32': 123.2915048333,\n",
       " u'320': 859.426280833,\n",
       " u'321': 0.0,\n",
       " u'322': 0.0,\n",
       " u'323': 397.24734133329997,\n",
       " u'324': 1669.9007213329999,\n",
       " u'325': 370.8747679997,\n",
       " u'326': 1426.2515225012999,\n",
       " u'327': 355.96292199997,\n",
       " u'328': 667.7495933323299,\n",
       " u'329': 638.196504333,\n",
       " u'33': 253.9870258334,\n",
       " u'330': 187.9226685,\n",
       " u'331': 501.941580166,\n",
       " u'332': 124.52342500033,\n",
       " u'333': 129.087694,\n",
       " u'334': 0.0,\n",
       " u'335': 855.4038108340001,\n",
       " u'336': 278.6769970004,\n",
       " u'337': 0.0,\n",
       " u'338': 13.2610473333,\n",
       " u'339': 0.0,\n",
       " u'34': 180.413814,\n",
       " u'340': 392.473794834,\n",
       " u'341': 35.531418,\n",
       " u'342': 0.0,\n",
       " u'343': 83.295313,\n",
       " u'344': 614.9778563333,\n",
       " u'345': 246.61175300029998,\n",
       " u'346': 248.12435916639998,\n",
       " u'347': 713.3479524992999,\n",
       " u'348': 0.0,\n",
       " u'349': 211.3875440003,\n",
       " u'35': 765.6402170004,\n",
       " u'350': 107.74437683336001,\n",
       " u'351': 320.97561616674,\n",
       " u'352': 729.8468485,\n",
       " u'353': 122.07255516670001,\n",
       " u'354': 609.2861186673,\n",
       " u'355': 944.5557876659999,\n",
       " u'356': 64.7772518334,\n",
       " u'357': 105.06483083340001,\n",
       " u'358': 71.4977216667,\n",
       " u'359': 2530.5614099997,\n",
       " u'36': 809.2138958339,\n",
       " u'360': 677.2790736659999,\n",
       " u'361': 1053.7764165013,\n",
       " u'362': 58.3151085,\n",
       " u'363': 0.0,\n",
       " u'364': 0.0,\n",
       " u'365': 37.6347753333,\n",
       " u'366': 23.55166316667,\n",
       " u'367': 220.21062866679998,\n",
       " u'368': 817.9997333323399,\n",
       " u'369': 42.3843405,\n",
       " u'37': 1378.195091668,\n",
       " u'370': 0.0,\n",
       " u'371': 4.24015233333,\n",
       " u'372': 197.066153,\n",
       " u'373': 532.5829673333,\n",
       " u'374': 30.5476253333,\n",
       " u'375': 506.55911883299996,\n",
       " u'376': 65.9101326667,\n",
       " u'377': 803.3391453328,\n",
       " u'378': 0.0,\n",
       " u'379': 391.3939735,\n",
       " u'38': 0.0,\n",
       " u'380': 51.9296121667,\n",
       " u'381': 0.0,\n",
       " u'382': 73.6446115,\n",
       " u'383': 212.1774728337,\n",
       " u'384': 925.7537420007,\n",
       " u'385': 446.4724451667,\n",
       " u'386': 0.0,\n",
       " u'387': 0.0,\n",
       " u'388': 1208.05215466633,\n",
       " u'389': 131.7464566667,\n",
       " u'39': 1001.5888595,\n",
       " u'390': 137.9929768333,\n",
       " u'391': 0.0,\n",
       " u'392': 427.5369333332,\n",
       " u'393': 3.3318835,\n",
       " u'394': 808.5665558337,\n",
       " u'395': 2.17768916667,\n",
       " u'396': 0.0,\n",
       " u'397': 34.50448516667,\n",
       " u'398': 12.05914466667,\n",
       " u'399': 177.5920131668,\n",
       " u'4': 33.3214046667,\n",
       " u'40': 478.21952616690004,\n",
       " u'400': 239.61664966700002,\n",
       " u'401': 0.0,\n",
       " u'402': 0.0,\n",
       " u'403': 604.355107166,\n",
       " u'404': 611.4195701674,\n",
       " u'405': 741.2804391669999,\n",
       " u'406': 57.2638435,\n",
       " u'407': 500.9127926667,\n",
       " u'408': 59.7725306667,\n",
       " u'409': 364.480768,\n",
       " u'41': 511.925391,\n",
       " u'410': 951.118714666,\n",
       " u'411': 0.0,\n",
       " u'412': 55.49376599997,\n",
       " u'413': 578.9502861663,\n",
       " u'414': 68.0673978333,\n",
       " u'415': 0.0,\n",
       " u'416': 722.84210483367,\n",
       " u'417': 22.14904683337,\n",
       " u'418': 86.7824926667,\n",
       " u'419': 6.72066133333,\n",
       " u'42': 576.4643026663,\n",
       " u'420': 96.80278150000001,\n",
       " u'421': 357.275143834,\n",
       " u'422': 311.1889536663,\n",
       " u'423': 127.15142850000001,\n",
       " u'424': 0.0,\n",
       " u'425': 975.587918167,\n",
       " u'426': 0.0,\n",
       " u'427': 413.5420181666,\n",
       " u'428': 726.26075933267,\n",
       " u'429': 0.0,\n",
       " u'43': 88.822038,\n",
       " u'430': 1024.0636758326,\n",
       " u'431': 77.9742268333,\n",
       " u'432': 437.22883383330003,\n",
       " u'433': 81.51043433337,\n",
       " u'434': 696.5725646662999,\n",
       " u'435': 433.22729549969995,\n",
       " u'436': 858.37418699973,\n",
       " u'437': 39.4918656667,\n",
       " u'438': 363.94914149996,\n",
       " u'439': 847.38115366667,\n",
       " u'44': 0.0,\n",
       " u'440': 45.9874008334,\n",
       " u'441': 1065.2951291673999,\n",
       " u'442': 184.162204667,\n",
       " u'443': 1001.813550333,\n",
       " u'444': 0.0,\n",
       " u'445': 46.3023048333,\n",
       " u'446': 90.90472849993,\n",
       " u'447': 119.916663667,\n",
       " u'449': 20.247478,\n",
       " u'45': 0.0,\n",
       " u'450': 1096.72738949933,\n",
       " u'451': 79.9306696666,\n",
       " u'452': 36.434234,\n",
       " u'453': 514.86060716603,\n",
       " u'454': 141.19407999967,\n",
       " u'455': 438.50690233336,\n",
       " u'456': 27.37808133337,\n",
       " u'457': 547.552952834,\n",
       " u'458': 0.0,\n",
       " u'459': 943.8555468324001,\n",
       " u'46': 26.1189351667,\n",
       " u'460': 116.03298466660002,\n",
       " u'461': 89.6344988334,\n",
       " u'462': 749.194206334,\n",
       " u'463': 633.4301786670001,\n",
       " u'464': 503.05470083299997,\n",
       " u'465': 53.1803671667,\n",
       " u'466': 131.94636750003,\n",
       " u'467': 207.27739616670002,\n",
       " u'468': 224.91582050030001,\n",
       " u'469': 884.7240451653,\n",
       " u'47': 854.8288881656,\n",
       " u'471': 68.2496686666,\n",
       " u'472': 174.4431463334,\n",
       " u'473': 0.0,\n",
       " u'474': 285.75573750030003,\n",
       " u'475': 164.161086,\n",
       " u'476': 46.6148,\n",
       " u'477': 779.5860966676,\n",
       " u'478': 4.45095966667,\n",
       " u'479': 316.43186650009994,\n",
       " u'48': 1055.6871896667,\n",
       " u'480': 0.0,\n",
       " u'481': 599.325108667,\n",
       " u'482': 29.5289625001,\n",
       " u'483': 716.3825241659999,\n",
       " u'484': 18.786721,\n",
       " u'485': 411.84511316623,\n",
       " u'486': 188.8958254999,\n",
       " u'487': 551.1900968329701,\n",
       " u'488': 101.401498833,\n",
       " u'489': 829.9734088337,\n",
       " u'49': 0.0,\n",
       " u'490': 32.447970500029996,\n",
       " u'491': 640.0351108333,\n",
       " u'492': 0.0,\n",
       " u'493': 586.7405209996,\n",
       " u'494': 591.1435670003,\n",
       " u'495': 414.253240333,\n",
       " u'496': 1217.1688571673,\n",
       " u'497': 448.741092333,\n",
       " u'498': 385.2513571667001,\n",
       " u'499': 367.3854126667,\n",
       " u'5': 329.7578566663,\n",
       " u'50': 491.9087078335,\n",
       " u'500': 229.2620115,\n",
       " u'501': 32.8227305,\n",
       " u'502': 504.04492916670006,\n",
       " u'503': 2.8138905,\n",
       " u'504': 388.7726185,\n",
       " u'505': 459.3740381662999,\n",
       " u'506': 75.8750386667,\n",
       " u'507': 92.3539813334,\n",
       " u'508': 736.5973803337,\n",
       " u'509': 307.0653258337,\n",
       " u'51': 0.0,\n",
       " u'510': 143.78600349967,\n",
       " u'511': 493.53649199967003,\n",
       " u'512': 4.26499566667,\n",
       " u'513': 626.2345113327,\n",
       " u'514': 62.84829066659999,\n",
       " u'515': 265.47810483300003,\n",
       " u'516': 454.17951166700004,\n",
       " u'517': 1381.1028195004,\n",
       " u'518': 980.5763799994,\n",
       " u'519': 231.0283105,\n",
       " u'52': 3.22752383333,\n",
       " u'520': 109.5149769999,\n",
       " u'521': 406.0453698336,\n",
       " u'522': 303.55134400000003,\n",
       " u'523': 61.33310733329999,\n",
       " u'524': 0.0,\n",
       " u'525': 0.0,\n",
       " u'526': 670.3438828333,\n",
       " u'527': 256.4187193326,\n",
       " u'528': 514.0743979996,\n",
       " u'529': 0.0,\n",
       " u'53': 401.97479050029995,\n",
       " u'530': 1896.7540938320003,\n",
       " u'531': 594.0435458336,\n",
       " u'532': 422.6295078334,\n",
       " u'533': 455.19857933369997,\n",
       " u'534': 609.6590520007001,\n",
       " u'535': 629.7823334996999,\n",
       " u'536': 0.0,\n",
       " u'537': 30.6256575,\n",
       " u'538': 7.1116735,\n",
       " u'539': 172.5712248333,\n",
       " u'54': 427.764673834,\n",
       " u'540': 440.96130916723,\n",
       " u'541': 20.879544833329998,\n",
       " u'542': 1036.951593167,\n",
       " u'543': 183.7893518334,\n",
       " u'544': 1421.7436063333,\n",
       " u'545': 307.7543378337,\n",
       " u'546': 41.7786686667,\n",
       " u'547': 0.0,\n",
       " u'548': 769.207330667,\n",
       " u'549': 32.0522478333,\n",
       " u'55': 589.6171318323301,\n",
       " u'550': 18.9512853333,\n",
       " u'551': 0.0,\n",
       " u'552': 932.3012898327,\n",
       " u'553': 507.1024986672999,\n",
       " u'554': 272.16654083369997,\n",
       " u'555': 294.34356566670004,\n",
       " u'556': 187.25140866697,\n",
       " u'557': 1245.8182150003,\n",
       " u'558': 0.0,\n",
       " u'559': 105.24544450007,\n",
       " u'56': 106.72208133333001,\n",
       " u'560': 61.7853381666,\n",
       " u'561': 52.4319528333,\n",
       " u'562': 326.448714,\n",
       " u'563': 21.972605,\n",
       " u'564': 18.4937245,\n",
       " u'565': 518.1875990003,\n",
       " u'566': 133.319127167,\n",
       " u'567': 321.3727448333,\n",
       " u'568': 28.9028346666,\n",
       " u'569': 1477.0239483322998,\n",
       " u'57': 91.3514995,\n",
       " u'570': 173.9382718334,\n",
       " u'571': 0.0,\n",
       " u'572': 907.111293668,\n",
       " u'573': 924.2469394994,\n",
       " u'574': 0.0,\n",
       " u'575': 400.8135763341,\n",
       " u'576': 911.11994133237,\n",
       " u'577': 120.55847799993,\n",
       " u'578': 28.5667518333,\n",
       " u'579': 298.253430333,\n",
       " u'58': 1024.109326834,\n",
       " u'580': 712.1588875006701,\n",
       " u'581': 122.48917700033,\n",
       " u'582': 2.4822425,\n",
       " u'583': 762.169280667,\n",
       " u'584': 0.0,\n",
       " u'585': 535.00554450033,\n",
       " u'586': 77.7392298333,\n",
       " u'587': 9.64132116667,\n",
       " u'588': 84.6351145,\n",
       " u'589': 4.56274816667,\n",
       " u'59': 47.1679638333,\n",
       " u'590': 0.0,\n",
       " u'591': 0.0,\n",
       " u'592': 488.40353200030006,\n",
       " u'593': 0.0,\n",
       " u'594': 0.0,\n",
       " u'595': 335.5259626667,\n",
       " u'596': 311.07236283327,\n",
       " u'597': 1047.649452501,\n",
       " u'598': 399.2498304993,\n",
       " u'599': 146.89298433300002,\n",
       " u'6': 780.4545511666701,\n",
       " u'60': 0.0,\n",
       " u'600': 24.87366349997,\n",
       " u'601': 0.0,\n",
       " u'602': 615.9597956661,\n",
       " u'603': 207.9139188337,\n",
       " u'604': 1890.9937024994,\n",
       " u'605': 218.3752333334,\n",
       " u'606': 456.3332818333,\n",
       " u'607': 547.7397464997,\n",
       " u'608': 248.29428850003,\n",
       " u'609': 73.7238143333,\n",
       " u'61': 496.99219366667,\n",
       " u'610': 653.1940411656001,\n",
       " u'611': 382.93037050067,\n",
       " u'612': 52.9136506667,\n",
       " u'613': 545.9623025,\n",
       " u'614': 101.1193401667,\n",
       " u'615': 108.47527400000001,\n",
       " u'616': 321.2057135,\n",
       " u'617': 432.987765666,\n",
       " u'618': 513.8126981664001,\n",
       " u'619': 1482.9020456663002,\n",
       " u'62': 293.383122167,\n",
       " u'620': 557.5625511664,\n",
       " u'621': 204.02415449966998,\n",
       " u'622': 396.82058733329995,\n",
       " u'623': 230.70437450010002,\n",
       " u'624': 1026.8480728333,\n",
       " u'625': 0.0,\n",
       " u'626': 95.1225038333,\n",
       " u'627': 1047.4820013337,\n",
       " u'628': 203.3427993337,\n",
       " u'629': 374.365616,\n",
       " u'63': 465.58233333400005,\n",
       " u'630': 394.5387589999,\n",
       " u'631': 237.7646521667,\n",
       " u'632': 84.558989,\n",
       " u'633': 1689.189059835,\n",
       " u'634': 223.73943383300002,\n",
       " u'635': 80.5941101667,\n",
       " u'636': 169.3917738333,\n",
       " u'637': 89.0572956666,\n",
       " u'639': 416.14186616669997,\n",
       " u'64': 346.5030268336,\n",
       " u'640': 0.0,\n",
       " u'641': 340.70627749999994,\n",
       " u'642': 421.960349833,\n",
       " u'643': 793.6706421670001,\n",
       " u'644': 488.3752611667,\n",
       " u'645': 847.3979861667,\n",
       " u'646': 264.5287276666,\n",
       " u'647': 73.5741316667,\n",
       " u'648': 129.1323983333,\n",
       " u'649': 700.4743598327,\n",
       " u'65': 422.27366000010005,\n",
       " u'650': 114.84451633329999,\n",
       " u'651': 1346.7158483327,\n",
       " u'652': 479.86306116670005,\n",
       " u'653': 736.4371648339999,\n",
       " u'655': 177.8367486667,\n",
       " u'656': 0.0,\n",
       " u'657': 0.0,\n",
       " u'66': 6.95969283333,\n",
       " u'660': 193.848226,\n",
       " u'661': 92.5547231666,\n",
       " u'665': 0.0,\n",
       " u'666': 138.052647,\n",
       " u'667': 144.1243173333,\n",
       " u'669': 0.0,\n",
       " u'67': 856.8375048337,\n",
       " u'670': 454.273163499,\n",
       " u'671': 115.15559099992998,\n",
       " u'672': 32.816891,\n",
       " u'673': 348.39415716703,\n",
       " u'674': 171.593366833,\n",
       " u'676': 16.5745846667,\n",
       " u'678': 100.0702155,\n",
       " u'68': 0.0,\n",
       " u'682': 25.243540000000003,\n",
       " u'686': 9.61211033333,\n",
       " u'687': 18.889756499999997,\n",
       " u'689': 0.0,\n",
       " u'69': 0.0,\n",
       " u'690': 0.0,\n",
       " u'692': 16.604203,\n",
       " u'693': 0.0,\n",
       " u'694': 198.6962631669,\n",
       " u'696': 666.3290910003,\n",
       " u'697': 88.1119545,\n",
       " u'698': 56.45108966666999,\n",
       " u'7': 104.20388850009999,\n",
       " u'70': 310.04241416702996,\n",
       " u'702': 0.0,\n",
       " u'704': 0.0,\n",
       " u'705': 0.0,\n",
       " u'706': 1329.9598305,\n",
       " u'709': 88.0103965,\n",
       " u'71': 53.5545175,\n",
       " u'710': 3.56199133333,\n",
       " u'712': 253.23675750029997,\n",
       " u'713': 139.060529,\n",
       " u'715': 307.3006509996,\n",
       " u'718': 0.0,\n",
       " u'719': 9.4907925,\n",
       " u'72': 704.5521115003299,\n",
       " u'720': 401.81893949967,\n",
       " u'722': 29.9067615,\n",
       " u'726': 21.1284496667,\n",
       " u'729': 0.0,\n",
       " u'73': 0.0,\n",
       " u'730': 41.7199715,\n",
       " u'732': 219.926066667,\n",
       " u'735': 0.0,\n",
       " u'736': 313.50181033333,\n",
       " u'74': 90.48065633329999,\n",
       " u'742': 489.7736965,\n",
       " u'743': 0.0,\n",
       " u'744': 374.5761038331,\n",
       " u'746': 706.5435295006,\n",
       " u'747': 0.0,\n",
       " u'748': 324.6302378336,\n",
       " u'75': 20.8106506667,\n",
       " u'751': 52.1289673334,\n",
       " u'752': 30.5951761667,\n",
       " u'753': 116.628876833,\n",
       " u'754': 413.3262124997,\n",
       " u'755': 34.0330873333,\n",
       " u'756': 0.0,\n",
       " u'757': 354.6223496663,\n",
       " u'759': 0.0,\n",
       " u'76': 186.549237333,\n",
       " u'761': 100.06368333333,\n",
       " u'762': 85.29257,\n",
       " u'764': 59.340783666700005,\n",
       " u'769': 135.6825435,\n",
       " u'77': 231.80801666640002,\n",
       " u'771': 275.16640700005996,\n",
       " u'773': 0.0,\n",
       " u'776': 0.0,\n",
       " u'777': 199.31994916669998,\n",
       " u'778': 48.1974151667,\n",
       " u'779': 4.2604045,\n",
       " u'78': 0.0,\n",
       " u'780': 0.0,\n",
       " u'781': 0.0,\n",
       " u'782': 277.8489021664,\n",
       " u'784': 176.3818004999,\n",
       " u'785': 4.78649716667,\n",
       " u'786': 23.695871500029998,\n",
       " u'787': 0.0,\n",
       " u'79': 416.49598383333,\n",
       " u'791': 417.953548167,\n",
       " u'792': 1369.641421833,\n",
       " u'793': 0.0,\n",
       " u'794': 146.9410850001,\n",
       " u'796': 0.0,\n",
       " u'797': 0.0,\n",
       " u'798': 397.8826263333,\n",
       " u'8': 989.113641833,\n",
       " u'80': 106.2245978334,\n",
       " u'800': 122.87407133333,\n",
       " u'801': 0.0,\n",
       " u'804': 22.7346656667,\n",
       " u'805': 84.1050015,\n",
       " u'806': 49.937148999970006,\n",
       " u'808': 106.2993215,\n",
       " u'81': 227.6363853331,\n",
       " u'811': 1138.3177014993998,\n",
       " u'812': 1764.5367983344001,\n",
       " u'816': 0.0,\n",
       " u'82': 537.5285965007,\n",
       " u'822': 2.30081433333,\n",
       " u'823': 0.0,\n",
       " u'824': 260.47024649996,\n",
       " u'825': 27.3957285,\n",
       " u'828': 345.17664533360005,\n",
       " u'829': 129.762569,\n",
       " u'83': 293.4918854997,\n",
       " u'831': 51.016355999999995,\n",
       " u'832': 0.0,\n",
       " u'833': 2.38093233333,\n",
       " u'834': 21.5715365,\n",
       " u'835': 0.0,\n",
       " u'836': 29.38455616663,\n",
       " u'839': 13.587055,\n",
       " u'84': 752.4780518326,\n",
       " u'840': 0.0,\n",
       " u'843': 924.060058833,\n",
       " u'844': 817.60166266567,\n",
       " u'846': 32.6861011667,\n",
       " u'85': 500.4921706667001,\n",
       " u'851': 58.5606146667,\n",
       " u'852': 214.54059633330002,\n",
       " u'853': 5.92106983333,\n",
       " u'854': 64.29995600000001,\n",
       " u'855': 92.6896001666,\n",
       " u'856': 0.0,\n",
       " u'857': 0.0,\n",
       " u'858': 260.94864483347,\n",
       " u'859': 2.54122166667,\n",
       " u'86': 0.0,\n",
       " u'864': 53.1295885,\n",
       " u'866': 0.0,\n",
       " u'867': 0.0,\n",
       " u'868': 13.442560666670001,\n",
       " u'87': 1035.306503999,\n",
       " u'872': 129.3303274997,\n",
       " u'873': 30.2541315,\n",
       " u'874': 49.7470893333,\n",
       " u'877': 26.5230981667,\n",
       " u'88': 0.0,\n",
       " u'880': 15.5930261667,\n",
       " u'882': 0.0,\n",
       " u'883': 235.39055499926997,\n",
       " u'885': 1403.366643835,\n",
       " u'887': 62.78241916663,\n",
       " u'888': 3.3880415,\n",
       " u'89': 63.79716583327,\n",
       " u'893': 0.0,\n",
       " u'896': 0.0,\n",
       " u'897': 22.0889656667,\n",
       " u'9': 448.471384167,\n",
       " u'90': 114.43403466663,\n",
       " u'900': 0.0,\n",
       " u'901': 26.5587726667,\n",
       " u'905': 108.9832133333,\n",
       " u'906': 5.75313916667,\n",
       " u'909': 63.3749175,\n",
       " u'91': 84.9883638333,\n",
       " u'912': 0.0,\n",
       " u'913': 72.9583085,\n",
       " u'916': 65.7383995,\n",
       " u'918': 21.086721,\n",
       " u'919': 663.5424139989,\n",
       " u'92': 611.3200641666999,\n",
       " u'920': 156.1449683333,\n",
       " u'923': 0.0,\n",
       " u'924': 209.96127933370002,\n",
       " u'927': 125.44656916667,\n",
       " u'928': 80.6559995,\n",
       " u'93': 751.2236896667,\n",
       " u'931': 0.0,\n",
       " u'932': 0.0,\n",
       " u'934': 5.03956,\n",
       " u'937': 160.1049253333,\n",
       " u'938': 69.45209899999999,\n",
       " u'939': 0.0,\n",
       " u'94': 0.0,\n",
       " u'940': 0.0,\n",
       " u'941': 2.99934966667,\n",
       " u'946': 131.70276883329998,\n",
       " u'948': 94.3237553333,\n",
       " u'950': 107.3523146666,\n",
       " u'952': 120.657056167,\n",
       " u'954': 91.64868466669999,\n",
       " u'955': 240.5959745003,\n",
       " u'956': 6.80688283333,\n",
       " u'958': 0.0,\n",
       " u'96': 45.3963998333,\n",
       " u'965': 666.393701501,\n",
       " u'966': 8.08317416667,\n",
       " u'967': 449.6269801663,\n",
       " u'969': 24.9669023333,\n",
       " u'97': 8.46994183333,\n",
       " u'972': 96.1137128333,\n",
       " u'973': 42.35008283337,\n",
       " u'975': 3.7103945,\n",
       " u'976': 65.0527071667,\n",
       " u'977': 3.35443916667,\n",
       " u'979': 517.8334496674,\n",
       " u'98': 525.6444536663,\n",
       " u'983': 0.0,\n",
       " u'984': 68.4192841666,\n",
       " u'985': 46.494977,\n",
       " u'986': 182.85550433323,\n",
       " u'988': 61.420162,\n",
       " u'989': 0.0,\n",
       " u'99': 317.10422516660003,\n",
       " u'990': 106.08401216677001,\n",
       " u'992': 39.0104288333}"
      ]
     },
     "execution_count": 29,
     "metadata": {},
     "output_type": "execute_result"
    }
   ],
   "source": [
    "# Create a dictionary with the total minutes each student spent in the classroom during the first week.\n",
    "# The keys are account keys, and the values are numbers (total minutes)\n",
    "total_minutes_by_account = {}\n",
    "for account_key, engagement_for_student in engagement_by_account.items():\n",
    "    total_minutes = 0\n",
    "    for engagement_record in engagement_for_student:\n",
    "        total_minutes += engagement_record['total_minutes_visited']\n",
    "    total_minutes_by_account[account_key] = total_minutes\n",
    "total_minutes_by_account\n"
   ]
  },
  {
   "cell_type": "code",
   "execution_count": null,
   "metadata": {
    "collapsed": true
   },
   "outputs": [],
   "source": []
  },
  {
   "cell_type": "code",
   "execution_count": 92,
   "metadata": {
    "collapsed": false
   },
   "outputs": [
    {
     "name": "stdout",
     "output_type": "stream",
     "text": [
      "Mean: 306.708326753\n",
      "Standard deviation: 412.996933409\n",
      "Minimum: 0.0\n",
      "Maximum: 3564.7332645\n"
     ]
    }
   ],
   "source": [
    "import numpy as np\n",
    "\n",
    "# Summarize the data about minutes spent in the classroom\n",
    "total_minutes = total_minutes_by_account.values()\n",
    "print 'Mean:', np.mean(total_minutes)\n",
    "print 'Standard deviation:', np.std(total_minutes)\n",
    "print 'Minimum:', np.min(total_minutes)\n",
    "print 'Maximum:', np.max(total_minutes)"
   ]
  },
  {
   "cell_type": "markdown",
   "metadata": {},
   "source": [
    "## Debugging Data Analysis Code"
   ]
  },
  {
   "cell_type": "code",
   "execution_count": null,
   "metadata": {
    "collapsed": true
   },
   "outputs": [],
   "source": [
    "#####################################\n",
    "#                 8                 #\n",
    "#####################################\n",
    "\n",
    "## Go through a similar process as before to see if there is a problem.\n",
    "## Locate at least one surprising piece of data, output it, and take a look at it."
   ]
  },
  {
   "cell_type": "markdown",
   "metadata": {},
   "source": [
    "## Lessons Completed in First Week"
   ]
  },
  {
   "cell_type": "code",
   "execution_count": 101,
   "metadata": {
    "collapsed": false
   },
   "outputs": [],
   "source": [
    "def total_by_account(item):\n",
    "    total_by_account = {}\n",
    "    for account_key, engagement_for_student in engagement_by_account.items():\n",
    "        total = 0\n",
    "        for engagement_record in engagement_for_student:\n",
    "            total += engagement_record[item]\n",
    "        total_by_account[account_key] = total\n",
    "    return total_by_account"
   ]
  },
  {
   "cell_type": "code",
   "execution_count": 103,
   "metadata": {
    "collapsed": false
   },
   "outputs": [
    {
     "name": "stdout",
     "output_type": "stream",
     "text": [
      "Mean: 1.63618090452\n",
      "Standard deviation: 3.00256129983\n",
      "Minimum: 0\n",
      "Maximum: 36\n"
     ]
    }
   ],
   "source": [
    "#####################################\n",
    "#                 9                 #\n",
    "#####################################\n",
    "\n",
    "## Adapt the code above to find the mean, standard deviation, minimum, and maximum for\n",
    "## the number of lessons completed by each student during the first week. Try creating\n",
    "## one or more functions to re-use the code above.\n",
    "total_compeleted_lessons = total_by_account('lessons_completed').values()\n",
    "print 'Mean:', np.mean(total_compeleted_lessons)\n",
    "print 'Standard deviation:', np.std(total_compeleted_lessons)\n",
    "print 'Minimum:', np.min(total_compeleted_lessons)\n",
    "print 'Maximum:', np.max(total_compeleted_lessons)\n"
   ]
  },
  {
   "cell_type": "markdown",
   "metadata": {},
   "source": [
    "## Number of Visits in First Week"
   ]
  },
  {
   "cell_type": "code",
   "execution_count": null,
   "metadata": {
    "collapsed": true
   },
   "outputs": [],
   "source": [
    "######################################\n",
    "#                 10                 #\n",
    "######################################\n",
    "\n",
    "## Find the mean, standard deviation, minimum, and maximum for the number of\n",
    "## days each student visits the classroom during the first week.\n",
    "visits_by_account = {}\n",
    "\n"
   ]
  },
  {
   "cell_type": "markdown",
   "metadata": {},
   "source": [
    "## Splitting out Passing Students"
   ]
  },
  {
   "cell_type": "code",
   "execution_count": null,
   "metadata": {
    "collapsed": true
   },
   "outputs": [],
   "source": [
    "######################################\n",
    "#                 11                 #\n",
    "######################################\n",
    "\n",
    "## Create two lists of engagement data for paid students in the first week.\n",
    "## The first list should contain data for students who eventually pass the\n",
    "## subway project, and the second list should contain data for students\n",
    "## who do not.\n",
    "\n",
    "subway_project_lesson_keys = ['746169184', '3176718735']\n",
    "\n",
    "passing_engagement =\n",
    "non_passing_engagement ="
   ]
  },
  {
   "cell_type": "markdown",
   "metadata": {},
   "source": [
    "## Comparing the Two Student Groups"
   ]
  },
  {
   "cell_type": "code",
   "execution_count": null,
   "metadata": {
    "collapsed": true
   },
   "outputs": [],
   "source": [
    "######################################\n",
    "#                 12                 #\n",
    "######################################\n",
    "\n",
    "## Compute some metrics you're interested in and see how they differ for\n",
    "## students who pass the subway project vs. students who don't. A good\n",
    "## starting point would be the metrics we looked at earlier (minutes spent\n",
    "## in the classroom, lessons completed, and days visited)."
   ]
  },
  {
   "cell_type": "markdown",
   "metadata": {},
   "source": [
    "## Making Histograms"
   ]
  },
  {
   "cell_type": "code",
   "execution_count": null,
   "metadata": {
    "collapsed": true
   },
   "outputs": [],
   "source": [
    "######################################\n",
    "#                 13                 #\n",
    "######################################\n",
    "\n",
    "## Make histograms of the three metrics we looked at earlier for both\n",
    "## students who passed the subway project and students who didn't. You\n",
    "## might also want to make histograms of any other metrics you examined."
   ]
  },
  {
   "cell_type": "markdown",
   "metadata": {},
   "source": [
    "## Improving Plots and Sharing Findings"
   ]
  },
  {
   "cell_type": "code",
   "execution_count": null,
   "metadata": {
    "collapsed": true
   },
   "outputs": [],
   "source": [
    "######################################\n",
    "#                 14                 #\n",
    "######################################\n",
    "\n",
    "## Make a more polished version of at least one of your visualizations\n",
    "## from earlier. Try importing the seaborn library to make the visualization\n",
    "## look better, adding axis labels and a title, and changing one or more\n",
    "## arguments to the hist() function."
   ]
  }
 ],
 "metadata": {
  "anaconda-cloud": {},
  "kernelspec": {
   "display_name": "Python [default]",
   "language": "python",
   "name": "python2"
  },
  "language_info": {
   "codemirror_mode": {
    "name": "ipython",
    "version": 2
   },
   "file_extension": ".py",
   "mimetype": "text/x-python",
   "name": "python",
   "nbconvert_exporter": "python",
   "pygments_lexer": "ipython2",
   "version": "2.7.12"
  }
 },
 "nbformat": 4,
 "nbformat_minor": 0
}
